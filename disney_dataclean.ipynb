{
 "cells": [
  {
   "cell_type": "code",
   "execution_count": 3,
   "id": "afea3122-4e8d-4fb1-bff3-08375b53dc3f",
   "metadata": {},
   "outputs": [
    {
     "name": "stdout",
     "output_type": "stream",
     "text": [
      "数据清洗完成，已导出为 final_cleaned_disney_comments.csv\n"
     ]
    }
   ],
   "source": [
    "import pandas as pd\n",
    "import re\n",
    "\n",
    "# 读取数据\n",
    "file_path = \"disney_comments.csv\"  # 请替换为您的文件路径\n",
    "data = pd.read_csv(file_path, encoding='utf-8', sep=',')\n",
    "\n",
    "# 1. 删除 comments 中为空的整行\n",
    "data = data.dropna(subset=[\"comments\"])  # 删除 comments 为空的行\n",
    "\n",
    "# 2. 清洗包含 @用户名 的行\n",
    "def clean_at_mentions(comment):\n",
    "    # 使用正则表达式匹配并移除 \"@用户名\" 的部分\n",
    "    return re.sub(r'@\\S+', '', comment)\n",
    "\n",
    "# 应用清洗函数到 comments 列\n",
    "data[\"comments\"] = data[\"comments\"].apply(clean_at_mentions)\n",
    "\n",
    "# 3. 删除清洗 \"@用户名\" 后 comments 列为空的行\n",
    "# 去除空白字符后检查是否为空\n",
    "data = data[data[\"comments\"].str.strip() != \"\"]\n",
    "\n",
    "# 重置索引\n",
    "data.reset_index(drop=True, inplace=True)\n",
    "\n",
    "# 保存清洗后的文件\n",
    "data.to_csv(\"final_cleaned_disney_comments.csv\", index=False, encoding='utf-8')\n",
    "\n",
    "print(\"数据清洗完成，已导出为 final_cleaned_disney_comments.csv\")"
   ]
  }
 ],
 "metadata": {
  "kernelspec": {
   "display_name": "Python 3 (ipykernel)",
   "language": "python",
   "name": "python3"
  },
  "language_info": {
   "codemirror_mode": {
    "name": "ipython",
    "version": 3
   },
   "file_extension": ".py",
   "mimetype": "text/x-python",
   "name": "python",
   "nbconvert_exporter": "python",
   "pygments_lexer": "ipython3",
   "version": "3.12.4"
  }
 },
 "nbformat": 4,
 "nbformat_minor": 5
}
